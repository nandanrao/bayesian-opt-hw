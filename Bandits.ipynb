{
 "cells": [
  {
   "cell_type": "code",
   "execution_count": null,
   "metadata": {
    "collapsed": false,
    "scrolled": true
   },
   "outputs": [],
   "source": [
    "library(dplyr)\n",
    "library(ggplot2)"
   ]
  },
  {
   "cell_type": "code",
   "execution_count": 11,
   "metadata": {
    "collapsed": false
   },
   "outputs": [],
   "source": [
    "gen.bandits <- function(K, epsilon = c(0.02, .3)) {\n",
    "    start <- epsilon[1]\n",
    "    end <- epsilon[2]\n",
    "    c(.5, .5 - runif(K-1, start, end))\n",
    "}\n",
    "\n",
    "event <- function(i, result, K) {\n",
    "    a <- rep(NaN, K)\n",
    "    a[i] <- result\n",
    "    a\n",
    "}\n",
    "\n",
    "get.mean <- function(events, optimistic = TRUE) {\n",
    "    means <- apply(events, 2, mean, na.rm=TRUE)\n",
    "    if (optimistic) {\n",
    "        sapply(means, function (x) ifelse(is.nan(x), 1, x))\n",
    "    }\n",
    "    else means\n",
    "}\n",
    "\n",
    "pull.arm <- function(p) rbinom(1,1,p)\n",
    "\n",
    "regret <- function(bandits, events) {\n",
    "    winner <- which.max(bandits)\n",
    "    top <- bandits[winner]\n",
    "    n <- dim(events)[1]\n",
    "    events[is.nan(events)] <- 0\n",
    "    sapply(1:n, function (i) (i * top - sum(events[1:i,])))\n",
    "}\n",
    "\n",
    "epsilon.greedy <- function(events, epsilon) {\n",
    "    m <- get.mean(events)\n",
    "    i <- which.max(m)\n",
    "    if (runif(1) > epsilon) i\n",
    "    else sample(1:dim(events)[2], 1)\n",
    "}\n",
    "\n",
    "runner <- function(K, policy, n) {\n",
    "    bandits <- gen.bandits(K)\n",
    "    events <- matrix(nrow=1, ncol=K)\n",
    "    for (i in 1:n) {\n",
    "        move <- policy(events)\n",
    "        result <- pull.arm(bandits[move])\n",
    "        new.events <- event(move, result, K)\n",
    "        events <- rbind(events, new.events)\n",
    "    }\n",
    "    events <- tail(events, -1) # remove initial\n",
    "    list(bandits = bandits, events = events, regret = regret(bandits, events))\n",
    "}\n",
    "\n",
    "avg.greedy <- function(eps, n=300, m=15) {\n",
    "    m <- sapply(1:m, function (e) runner(10, function (i) epsilon.greedy(i, eps), n)$regret)\n",
    "    data.frame(time = 1:n, regret = apply(m, 1, mean))\n",
    "}\n",
    "\n",
    "plot.greedys <- function() {\n",
    "    epsilons <- seq(0.02,0.1,.02)\n",
    "    df <- data.frame()\n",
    "    for (e in epsilons){\n",
    "        df <- rbind(df, avg.greedy(e) %>% mutate(eps = as.factor(e)))\n",
    "    }\n",
    "    df %>%\n",
    "        ggplot(aes(x = time, y = regret, color = eps)) +\n",
    "        geom_line()\n",
    "}"
   ]
  },
  {
   "cell_type": "code",
   "execution_count": null,
   "metadata": {
    "collapsed": false
   },
   "outputs": [],
   "source": [
    "plot.greedys() "
   ]
  }
 ],
 "metadata": {
  "kernelspec": {
   "display_name": "R",
   "language": "R",
   "name": "ir"
  },
  "language_info": {
   "codemirror_mode": "r",
   "file_extension": ".r",
   "mimetype": "text/x-r-source",
   "name": "R",
   "pygments_lexer": "r",
   "version": "3.3.2"
  }
 },
 "nbformat": 4,
 "nbformat_minor": 2
}
